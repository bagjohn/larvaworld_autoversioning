{
 "cells": [
  {
   "cell_type": "markdown",
   "metadata": {},
   "source": [
    "# Parameter Configurations"
   ]
  },
  {
   "cell_type": "markdown",
   "metadata": {},
   "source": [
    "When larvaworld is imported the registry is automatically initialized.\n",
    "\n",
    "We import the registry module **reg**"
   ]
  },
  {
   "cell_type": "code",
   "execution_count": 2,
   "metadata": {},
   "outputs": [],
   "source": [
    "import larvaworld\n",
    "\n",
    "from larvaworld.lib import aux, reg, process, sim"
   ]
  },
  {
   "cell_type": "markdown",
   "metadata": {},
   "source": [
    "The configuration types (conftypes) stored in the registry can be accessed easily :"
   ]
  },
  {
   "cell_type": "code",
   "execution_count": 3,
   "metadata": {},
   "outputs": [
    {
     "name": "stdout",
     "output_type": "stream",
     "text": [
      "['Env', 'LabFormat', 'Ref', 'Model', 'Trial', 'Exp', 'Batch', 'Ga']\n"
     ]
    }
   ],
   "source": [
    "print(reg.CONFTYPES)"
   ]
  },
  {
   "cell_type": "markdown",
   "metadata": {},
   "source": [
    "Each conftype is managed by a dedicated instance of the **reg.generators.ConfType** class.\n",
    "\n",
    "These instances are located in a dictionary accessed as **reg.conf** under the respective conftype as key.\n",
    "\n",
    "They are easily accessed as the reg.conf is an AttrDict, \n",
    "\n",
    "For example, the ConfType instance responsible for a conftype :\n"
   ]
  },
  {
   "cell_type": "code",
   "execution_count": 4,
   "metadata": {},
   "outputs": [
    {
     "name": "stdout",
     "output_type": "stream",
     "text": [
      "The ConfType for Env is an instance of <class 'larvaworld.lib.reg.config.ConfType'>\n"
     ]
    }
   ],
   "source": [
    "conftype='Env'\n",
    "ct=reg.conf.Env\n",
    "assert ct==reg.conf[conftype]\n",
    "assert ct.conftype==conftype\n",
    "\n",
    "print(f'The ConfType for {conftype} is an instance of {ct.__class__}')"
   ]
  },
  {
   "cell_type": "markdown",
   "metadata": {},
   "source": [
    "Each ConfType instance **ct** manages configurations of conftype **ct.conftype**.\n",
    "\n",
    "A number of stored configurations are kept as entries in a dictionary  **ct.dict** stored at **ct.path_to_dict**.\n",
    "\n",
    "Each entry has a unique ID (confID) as key. The list of available IDs cna be accessed as **ct.confIDs**.\n",
    "\n",
    "\n",
    "\n"
   ]
  },
  {
   "cell_type": "code",
   "execution_count": 5,
   "metadata": {},
   "outputs": [
    {
     "name": "stdout",
     "output_type": "stream",
     "text": [
      "The dictionary storing Env configurations is an instance of <class 'larvaworld.lib.aux.dictsNlists.AttrDict'>\n",
      "It is stored at /home/panos/anaconda3/envs/larvaworld_autoversioning/lib/python3.8/site-packages/larvaworld/lib/reg/confDicts/Env.txt\n"
     ]
    }
   ],
   "source": [
    "# The dictionary\n",
    "print(f'The dictionary storing {ct.conftype} configurations is an instance of {ct.dict.__class__}')\n",
    "\n",
    "\n",
    "# The path where the dictionary is stored: \n",
    "print(f'It is stored at {ct.path_to_dict}')\n"
   ]
  },
  {
   "cell_type": "code",
   "execution_count": 6,
   "metadata": {},
   "outputs": [
    {
     "name": "stdout",
     "output_type": "stream",
     "text": [
      "The number of stored configurations per conftype & some example IDs:\n",
      "\n",
      " - Env : 33     eg : ['4corners', 'CS_UCS_off_food', 'CS_UCS_on_food']\n",
      " - LabFormat : 4     eg : ['Arguello', 'Berni', 'Jovanic']\n",
      " - Ref : 3     eg : ['exploration.30controls', 'exploration.40controls', 'exploration.dish02']\n",
      " - Model : 541     eg : ['CON_CON_DEF_BR', 'CON_CON_DEF_DEF', 'CON_CON_DEF_NENGO']\n",
      " - Trial : 3     eg : ['default', 'odor_preference', 'odor_preference_short']\n",
      " - Exp : 56     eg : ['4corners', 'MB_patch_grid', 'PItest_off']\n",
      " - Batch : 11     eg : ['PItest_off', 'PItrain', 'PItrain_mini']\n",
      " - Ga : 5     eg : ['chemorbit', 'exploration', 'interference']\n"
     ]
    }
   ],
   "source": [
    "print(f'The number of stored configurations per conftype & some example IDs:')\n",
    "print()\n",
    "for k in reg.CONFTYPES :\n",
    "    ct=reg.conf[k]\n",
    "    assert(k==ct.conftype)\n",
    "    ids=ct.confIDs\n",
    "    print(f' - {k} : {len(ids)}     eg : {ids[:3]}'    )\n",
    "    #print(f'        {ids}')\n",
    "    #print()\n"
   ]
  },
  {
   "cell_type": "code",
   "execution_count": 7,
   "metadata": {},
   "outputs": [
    {
     "name": "stdout",
     "output_type": "stream",
     "text": [
      "\n",
      "An instance of <class 'larvaworld.lib.aux.dictsNlists.AttrDict'>\n",
      "The lab-specific data-format configuration stored under ID CS_UCS_off_food is :\n",
      "     arena : \n",
      "          dims : (0.1, 0.1)\n",
      "          geometry : circular\n",
      "          torus : False\n",
      "     border_list : \n",
      "     food_params : \n",
      "          food_grid : None\n",
      "          source_groups : \n",
      "          source_units : \n",
      "               CS : \n",
      "                    amount : 0.0\n",
      "                    can_be_carried : False\n",
      "                    can_be_displaced : False\n",
      "                    color : red\n",
      "                    group : None\n",
      "                    odor : \n",
      "                         id : CS\n",
      "                         intensity : 2.0\n",
      "                         spread : 0.0002\n",
      "                    pos : (-0.04, 0.0)\n",
      "                    radius : 0.003\n",
      "                    regeneration : False\n",
      "                    regeneration_pos : None\n",
      "                    substrate : \n",
      "                         composition : \n",
      "                              glucose : 0.0\n",
      "                              dextrose : 0.0\n",
      "                              saccharose : 0.0\n",
      "                              yeast : 0.0\n",
      "                              agar : 0.0\n",
      "                              cornmeal : 0.0\n",
      "                         quality : 1.0\n",
      "                    unique_id : None\n",
      "               UCS : \n",
      "                    amount : 0.0\n",
      "                    can_be_carried : False\n",
      "                    can_be_displaced : False\n",
      "                    color : blue\n",
      "                    group : None\n",
      "                    odor : \n",
      "                         id : UCS\n",
      "                         intensity : 2.0\n",
      "                         spread : 0.0002\n",
      "                    pos : (0.04, 0.0)\n",
      "                    radius : 0.003\n",
      "                    regeneration : False\n",
      "                    regeneration_pos : None\n",
      "                    substrate : \n",
      "                         composition : \n",
      "                              glucose : 0.0\n",
      "                              dextrose : 0.0\n",
      "                              saccharose : 0.0\n",
      "                              yeast : 0.0\n",
      "                              agar : 0.0\n",
      "                              cornmeal : 0.0\n",
      "                         quality : 1.0\n",
      "                    unique_id : None\n",
      "     odorscape : \n",
      "          color : white\n",
      "          fixed_max : False\n",
      "          grid_dims : (51, 51)\n",
      "          initial_value : 0.0\n",
      "          odorscape : Gaussian\n",
      "          unique_id : Odorscape\n",
      "     thermoscape : None\n",
      "     windscape : None\n"
     ]
    }
   ],
   "source": [
    "ct=reg.conf.Env\n",
    "id=ct.confIDs[1]\n",
    "\n",
    "\n",
    "# The configuration IDs are the keys. They correspond to a configuration stored as a nested dictionary :\n",
    "entry1=ct.dict[id]\n",
    "print()\n",
    "print(f'An instance of {entry1.__class__}')\n",
    "\n",
    "# The configuration can be retrieved directly by :\n",
    "entry2=ct.getID(id)\n",
    "assert(entry1==entry2)\n",
    "\n",
    "# The configuration entry is a nested dict and can be printed easily as such :\n",
    "print(f'The lab-specific data-format configuration stored under ID {id} is :')\n",
    "entry2.print()"
   ]
  },
  {
   "cell_type": "code",
   "execution_count": 8,
   "metadata": {},
   "outputs": [
    {
     "name": "stdout",
     "output_type": "stream",
     "text": [
      "Old : (0.1, 0.1) vs New : (0.5, 0.1)\n"
     ]
    }
   ],
   "source": [
    "# A new configuration can be created by altering an existing :\n",
    "new_conf=entry1.get_copy()\n",
    "new_conf.arena.dims=(0.5,0.1)\n",
    "print(f'Old : {entry1.arena.dims} vs New : {new_conf.arena.dims}')\n",
    "\n",
    "\n",
    "# and then stored under an ID :\n",
    "new_id='new_confID'\n",
    "assert(new_id not in ct.confIDs)\n",
    "ct.setID(id=new_id, conf=new_conf)\n",
    "assert(new_id in ct.confIDs)\n",
    "\n",
    "# an entry can be deleted :\n",
    "ct.delete(id=new_id)\n",
    "assert(new_id not in ct.confIDs)"
   ]
  },
  {
   "cell_type": "code",
   "execution_count": 9,
   "metadata": {},
   "outputs": [
    {
     "name": "stdout",
     "output_type": "stream",
     "text": [
      "The object under the ID : CS_UCS_off_food is an instance of <class 'larvaworld.lib.reg.generators.EnvConf'>\n",
      "\n"
     ]
    }
   ],
   "source": [
    "# The configuration object can be retrieved directly by :\n",
    "obj=ct.get(id)\n",
    "print(f'The object under the ID : {id} is an instance of {obj.__class__}')\n",
    "print()\n",
    "\n",
    "#%params obj"
   ]
  },
  {
   "cell_type": "code",
   "execution_count": 10,
   "metadata": {},
   "outputs": [
    {
     "name": "stdout",
     "output_type": "stream",
     "text": [
      "Welcome to the param IPython extension! (https://param.holoviz.org/)\n",
      "Available magics: %params\n"
     ]
    }
   ],
   "source": [
    "%load_ext param.ipython\n",
    "from param.ipython import ParamPager\n",
    "import panel as pn"
   ]
  },
  {
   "cell_type": "code",
   "execution_count": 11,
   "metadata": {},
   "outputs": [],
   "source": [
    "from larvaworld.lib.reg.generators import EnvConf\n",
    "\n",
    "%params EnvConf"
   ]
  },
  {
   "cell_type": "code",
   "execution_count": 11,
   "metadata": {},
   "outputs": [],
   "source": [
    "for id in ct.confIDs :\n",
    "    obj=ct.get(id)\n",
    "    #%params obj"
   ]
  },
  {
   "cell_type": "code",
   "execution_count": 12,
   "metadata": {},
   "outputs": [
    {
     "data": {
      "text/plain": [
       "\u001b[1;32mParameters of 'GaussianValueLayerUnit' instance\n",
       "===============================================\n",
       "\u001b[0m\n",
       "\u001b[1;31mParameters changed from their default values are marked in red.\u001b[0m\n",
       "\u001b[1;36mSoft bound values are marked in cyan.\u001b[0m\n",
       "C/V= Constant/Variable, RO/RW = ReadOnly/ReadWrite, AN=Allow None\n",
       "\n",
       "\u001b[1;34mName               Value             Type           Bounds   Mode \u001b[0m\n",
       "\n",
       "grid_dims         (51, 51)   PositiveIntegerRange  (0,\u001b[1;36m 500\u001b[0m)  V RW \n",
       "unique_id       'Odorscape'         String                   V RW \n",
       "default_color     'white'           Color                    V RW \n",
       "initial_value       0.0             Number                   V RW \n",
       "fixed_max          False           Boolean          (0, 1)   V RW \n",
       "odorscape        'Gaussian'        Selector                  V RW \n",
       "\n",
       "\u001b[1;32mParameter docstrings:\n",
       "=====================\u001b[0m\n",
       "\n",
       "\u001b[1;34mgrid_dims:     The spatial resolution of the food grid.\u001b[0m\n",
       "\u001b[1;31munique_id:     The unique ID of the entity\u001b[0m\n",
       "\u001b[1;34mdefault_color: The default color of the entity\u001b[0m\n",
       "\u001b[1;31minitial_value: initial value over the grid\u001b[0m\n",
       "\u001b[1;34mfixed_max:     whether the max is kept constant\u001b[0m\n",
       "\u001b[1;31modorscape:     The odorscape algorithm\u001b[0m"
      ]
     },
     "metadata": {},
     "output_type": "display_data"
    }
   ],
   "source": [
    "obj=ct.get(ct.confIDs[2])\n",
    "%params obj.odorscape"
   ]
  },
  {
   "cell_type": "code",
   "execution_count": null,
   "metadata": {},
   "outputs": [],
   "source": [
    "for id in ct.confIDs :\n",
    "    obj=ct.get(id)\n",
    "    obj.visualize(duration=0.3)"
   ]
  },
  {
   "cell_type": "code",
   "execution_count": 14,
   "metadata": {},
   "outputs": [
    {
     "name": "stdout",
     "output_type": "stream",
     "text": [
      "4corners\n",
      "Completed: 525 steps"
     ]
    },
    {
     "ename": "KeyboardInterrupt",
     "evalue": "",
     "output_type": "error",
     "traceback": [
      "\u001b[0;31m---------------------------------------------------------------------------\u001b[0m",
      "\u001b[0;31mKeyboardInterrupt\u001b[0m                         Traceback (most recent call last)",
      "Cell \u001b[0;32mIn[14], line 18\u001b[0m\n\u001b[1;32m     16\u001b[0m         scape\u001b[38;5;241m.\u001b[39mvisible \u001b[38;5;241m=\u001b[39m \u001b[38;5;28;01mTrue\u001b[39;00m\n\u001b[1;32m     17\u001b[0m         \u001b[38;5;66;03m#print(scape.unique_id)\u001b[39;00m\n\u001b[0;32m---> 18\u001b[0m \u001b[43mm\u001b[49m\u001b[38;5;241;43m.\u001b[39;49m\u001b[43mrun\u001b[49m\u001b[43m(\u001b[49m\u001b[43m)\u001b[49m\n\u001b[1;32m     19\u001b[0m m\u001b[38;5;241m.\u001b[39mscreen_manager\u001b[38;5;241m.\u001b[39mclose()\n",
      "File \u001b[0;32m~/larvaworld_new/larvaworld_venv_new/lib/python3.10/site-packages/larvaworld/lib/sim/ABM_model.py:309\u001b[0m, in \u001b[0;36mBasicABModel.run\u001b[0;34m(self, steps, seed, display)\u001b[0m\n\u001b[1;32m    307\u001b[0m \u001b[38;5;28mself\u001b[39m\u001b[38;5;241m.\u001b[39msim_setup(steps, seed)\n\u001b[1;32m    308\u001b[0m \u001b[38;5;28;01mwhile\u001b[39;00m \u001b[38;5;28mself\u001b[39m\u001b[38;5;241m.\u001b[39mrunning:\n\u001b[0;32m--> 309\u001b[0m     \u001b[38;5;28;43mself\u001b[39;49m\u001b[38;5;241;43m.\u001b[39;49m\u001b[43msim_step\u001b[49m\u001b[43m(\u001b[49m\u001b[43m)\u001b[49m\n\u001b[1;32m    310\u001b[0m     \u001b[38;5;28;01mif\u001b[39;00m display:\n\u001b[1;32m    311\u001b[0m         \u001b[38;5;28mprint\u001b[39m(\u001b[38;5;124mf\u001b[39m\u001b[38;5;124m\"\u001b[39m\u001b[38;5;130;01m\\r\u001b[39;00m\u001b[38;5;124mCompleted: \u001b[39m\u001b[38;5;132;01m{\u001b[39;00m\u001b[38;5;28mself\u001b[39m\u001b[38;5;241m.\u001b[39mt\u001b[38;5;132;01m}\u001b[39;00m\u001b[38;5;124m steps\u001b[39m\u001b[38;5;124m\"\u001b[39m, end\u001b[38;5;241m=\u001b[39m\u001b[38;5;124m'\u001b[39m\u001b[38;5;124m'\u001b[39m)\n",
      "File \u001b[0;32m~/larvaworld_new/larvaworld_venv_new/lib/python3.10/site-packages/larvaworld/lib/sim/base_run.py:76\u001b[0m, in \u001b[0;36mBaseRun.sim_step\u001b[0;34m(self)\u001b[0m\n\u001b[1;32m     74\u001b[0m \u001b[38;5;28;01mif\u001b[39;00m \u001b[38;5;129;01mnot\u001b[39;00m \u001b[38;5;28mself\u001b[39m\u001b[38;5;241m.\u001b[39mis_paused:\n\u001b[1;32m     75\u001b[0m     \u001b[38;5;28mself\u001b[39m\u001b[38;5;241m.\u001b[39mstep()\n\u001b[0;32m---> 76\u001b[0m     \u001b[38;5;28;43mself\u001b[39;49m\u001b[38;5;241;43m.\u001b[39;49m\u001b[43mscreen_manager\u001b[49m\u001b[38;5;241;43m.\u001b[39;49m\u001b[43mstep\u001b[49m\u001b[43m(\u001b[49m\u001b[43m)\u001b[49m\n\u001b[1;32m     77\u001b[0m     \u001b[38;5;28mself\u001b[39m\u001b[38;5;241m.\u001b[39mupdate()\n\u001b[1;32m     78\u001b[0m     \u001b[38;5;28mself\u001b[39m\u001b[38;5;241m.\u001b[39mt \u001b[38;5;241m+\u001b[39m\u001b[38;5;241m=\u001b[39m \u001b[38;5;241m1\u001b[39m\n",
      "File \u001b[0;32m~/larvaworld_new/larvaworld_venv_new/lib/python3.10/site-packages/larvaworld/lib/screen/drawing.py:429\u001b[0m, in \u001b[0;36mScreenManager.step\u001b[0;34m(self)\u001b[0m\n\u001b[1;32m    427\u001b[0m \u001b[38;5;28mself\u001b[39m\u001b[38;5;241m.\u001b[39mscreen_clock\u001b[38;5;241m.\u001b[39mtick_clock()\n\u001b[1;32m    428\u001b[0m \u001b[38;5;28;01mif\u001b[39;00m \u001b[38;5;28mself\u001b[39m\u001b[38;5;241m.\u001b[39mrender_valid:\n\u001b[0;32m--> 429\u001b[0m     \u001b[38;5;28;43mself\u001b[39;49m\u001b[38;5;241;43m.\u001b[39;49m\u001b[43mrender\u001b[49m\u001b[43m(\u001b[49m\u001b[43m)\u001b[49m\n\u001b[1;32m    430\u001b[0m \u001b[38;5;28;01mif\u001b[39;00m \u001b[38;5;28mself\u001b[39m\u001b[38;5;241m.\u001b[39msnapshot_valid:\n\u001b[1;32m    431\u001b[0m     \u001b[38;5;28mself\u001b[39m\u001b[38;5;241m.\u001b[39mcapture_snapshot()\n",
      "File \u001b[0;32m~/larvaworld_new/larvaworld_venv_new/lib/python3.10/site-packages/larvaworld/lib/screen/drawing.py:231\u001b[0m, in \u001b[0;36mBaseScreenManager.render\u001b[0;34m(self, **kwargs)\u001b[0m\n\u001b[1;32m    229\u001b[0m \u001b[38;5;28mself\u001b[39m\u001b[38;5;241m.\u001b[39mcheck(\u001b[38;5;241m*\u001b[39m\u001b[38;5;241m*\u001b[39mkwargs)\n\u001b[1;32m    230\u001b[0m \u001b[38;5;28;01mif\u001b[39;00m \u001b[38;5;129;01mnot\u001b[39;00m \u001b[38;5;28mself\u001b[39m\u001b[38;5;241m.\u001b[39moverlap_mode:\n\u001b[0;32m--> 231\u001b[0m     \u001b[38;5;28;43mself\u001b[39;49m\u001b[38;5;241;43m.\u001b[39;49m\u001b[43mdraw_arena\u001b[49m\u001b[43m(\u001b[49m\u001b[38;5;28;43mself\u001b[39;49m\u001b[38;5;241;43m.\u001b[39;49m\u001b[43mv\u001b[49m\u001b[43m)\u001b[49m\n\u001b[1;32m    233\u001b[0m \u001b[38;5;28mself\u001b[39m\u001b[38;5;241m.\u001b[39mdraw_agents(\u001b[38;5;28mself\u001b[39m\u001b[38;5;241m.\u001b[39mv)\n\u001b[1;32m    234\u001b[0m \u001b[38;5;28;01mif\u001b[39;00m \u001b[38;5;28mself\u001b[39m\u001b[38;5;241m.\u001b[39mshow_display:\n",
      "File \u001b[0;32m~/larvaworld_new/larvaworld_venv_new/lib/python3.10/site-packages/larvaworld/lib/screen/drawing.py:481\u001b[0m, in \u001b[0;36mScreenManager.draw_arena\u001b[0;34m(self, v)\u001b[0m\n\u001b[1;32m    477\u001b[0m \u001b[38;5;28;01mdef\u001b[39;00m \u001b[38;5;21mdraw_arena\u001b[39m(\u001b[38;5;28mself\u001b[39m, v):\n\u001b[1;32m    478\u001b[0m     \u001b[38;5;124;03m\"\"\"\u001b[39;00m\n\u001b[1;32m    479\u001b[0m \u001b[38;5;124;03m    Draw the arena and sensory landscapes\u001b[39;00m\n\u001b[1;32m    480\u001b[0m \u001b[38;5;124;03m    \"\"\"\u001b[39;00m\n\u001b[0;32m--> 481\u001b[0m     \u001b[38;5;28;43mself\u001b[39;49m\u001b[38;5;241;43m.\u001b[39;49m\u001b[43mdraw_arena_tank\u001b[49m\u001b[43m(\u001b[49m\u001b[43mv\u001b[49m\u001b[43m)\u001b[49m\n\u001b[1;32m    482\u001b[0m     m \u001b[38;5;241m=\u001b[39m \u001b[38;5;28mself\u001b[39m\u001b[38;5;241m.\u001b[39mmodel\n\u001b[1;32m    483\u001b[0m     arena_drawn \u001b[38;5;241m=\u001b[39m \u001b[38;5;28;01mFalse\u001b[39;00m\n",
      "File \u001b[0;32m~/larvaworld_new/larvaworld_venv_new/lib/python3.10/site-packages/larvaworld/lib/screen/drawing.py:474\u001b[0m, in \u001b[0;36mScreenManager.draw_arena_tank\u001b[0;34m(self, v)\u001b[0m\n\u001b[1;32m    469\u001b[0m \u001b[38;5;28;01mdef\u001b[39;00m \u001b[38;5;21mdraw_arena_tank\u001b[39m(\u001b[38;5;28mself\u001b[39m, v):\n\u001b[1;32m    470\u001b[0m     \u001b[38;5;124;03m\"\"\"\u001b[39;00m\n\u001b[1;32m    471\u001b[0m \u001b[38;5;124;03m    Draw the tank of the arena with optional background\u001b[39;00m\n\u001b[1;32m    472\u001b[0m \u001b[38;5;124;03m    \"\"\"\u001b[39;00m\n\u001b[0;32m--> 474\u001b[0m     \u001b[43mv\u001b[49m\u001b[38;5;241;43m.\u001b[39;49m\u001b[43mdraw_polygon\u001b[49m\u001b[43m(\u001b[49m\u001b[38;5;28;43mself\u001b[39;49m\u001b[38;5;241;43m.\u001b[39;49m\u001b[43mmodel\u001b[49m\u001b[38;5;241;43m.\u001b[39;49m\u001b[43mspace\u001b[49m\u001b[38;5;241;43m.\u001b[39;49m\u001b[43mvertices\u001b[49m\u001b[43m,\u001b[49m\u001b[43m \u001b[49m\u001b[43mcolor\u001b[49m\u001b[38;5;241;43m=\u001b[39;49m\u001b[38;5;28;43mself\u001b[39;49m\u001b[38;5;241;43m.\u001b[39;49m\u001b[43mtank_color\u001b[49m\u001b[43m)\u001b[49m\n\u001b[1;32m    475\u001b[0m     v\u001b[38;5;241m.\u001b[39mdraw_background(\u001b[38;5;28mself\u001b[39m\u001b[38;5;241m.\u001b[39mbg[:, \u001b[38;5;28mself\u001b[39m\u001b[38;5;241m.\u001b[39mmodel\u001b[38;5;241m.\u001b[39mt \u001b[38;5;241m-\u001b[39m \u001b[38;5;241m1\u001b[39m] \u001b[38;5;28;01mif\u001b[39;00m \u001b[38;5;28mself\u001b[39m\u001b[38;5;241m.\u001b[39mbg \u001b[38;5;129;01mis\u001b[39;00m \u001b[38;5;129;01mnot\u001b[39;00m \u001b[38;5;28;01mNone\u001b[39;00m \u001b[38;5;28;01melse\u001b[39;00m [\u001b[38;5;241m0\u001b[39m, \u001b[38;5;241m0\u001b[39m, \u001b[38;5;241m0\u001b[39m])\n",
      "File \u001b[0;32m~/larvaworld_new/larvaworld_venv_new/lib/python3.10/site-packages/larvaworld/lib/screen/rendering.py:86\u001b[0m, in \u001b[0;36mScreenWindowAreaPygame.draw_polygon\u001b[0;34m(self, vertices, color, filled, width)\u001b[0m\n\u001b[1;32m     84\u001b[0m vs \u001b[38;5;241m=\u001b[39m [\u001b[38;5;28mself\u001b[39m\u001b[38;5;241m.\u001b[39m_transform(v) \u001b[38;5;28;01mfor\u001b[39;00m v \u001b[38;5;129;01min\u001b[39;00m vertices]\n\u001b[1;32m     85\u001b[0m w \u001b[38;5;241m=\u001b[39m \u001b[38;5;241m0\u001b[39m \u001b[38;5;28;01mif\u001b[39;00m filled \u001b[38;5;28;01melse\u001b[39;00m \u001b[38;5;28mint\u001b[39m(\u001b[38;5;28mself\u001b[39m\u001b[38;5;241m.\u001b[39m_scale[\u001b[38;5;241m0\u001b[39m, \u001b[38;5;241m0\u001b[39m] \u001b[38;5;241m*\u001b[39m width)\n\u001b[0;32m---> 86\u001b[0m \u001b[43mpygame\u001b[49m\u001b[38;5;241;43m.\u001b[39;49m\u001b[43mdraw\u001b[49m\u001b[38;5;241;43m.\u001b[39;49m\u001b[43mpolygon\u001b[49m\u001b[43m(\u001b[49m\u001b[38;5;28;43mself\u001b[39;49m\u001b[38;5;241;43m.\u001b[39;49m\u001b[43m_window\u001b[49m\u001b[43m,\u001b[49m\u001b[43m \u001b[49m\u001b[43mcolor\u001b[49m\u001b[43m,\u001b[49m\u001b[43m \u001b[49m\u001b[43mvs\u001b[49m\u001b[43m,\u001b[49m\u001b[43m \u001b[49m\u001b[43mw\u001b[49m\u001b[43m)\u001b[49m\n",
      "\u001b[0;31mKeyboardInterrupt\u001b[0m: "
     ]
    }
   ],
   "source": [
    "for id in ct.confIDs :\n",
    "    obj=ct.get(id)\n",
    "    print(id)\n",
    "    p=aux.AttrDict({'env_params':obj.nestedConf})\n",
    "    \n",
    "    m = sim.base_run.BaseRun(runtype='Exp', experiment='dish',parameters=p,\n",
    "                             id=obj.name,duration=0.3, screen_kws={'show_display': True,\n",
    "                                                      'mode': 'video',\n",
    "                                                    'odor_aura': True,\n",
    "                                                   'intro_text': False,\n",
    "                                                                   'fps' : 60\n",
    "                                                   })\n",
    "    m.build_env(m.p.env_params)\n",
    "    m.set_obj_visibility(m.sensorscapes, True)\n",
    "    m.run()\n",
    "    m.screen_manager.close()"
   ]
  },
  {
   "cell_type": "code",
   "execution_count": null,
   "metadata": {},
   "outputs": [],
   "source": []
  }
 ],
 "metadata": {
  "kernelspec": {
   "display_name": "larvaworld_autoversioning",
   "language": "python",
   "name": "larvaworld_autoversioning"
  },
  "language_info": {
   "codemirror_mode": {
    "name": "ipython",
    "version": 3
   },
   "file_extension": ".py",
   "mimetype": "text/x-python",
   "name": "python",
   "nbconvert_exporter": "python",
   "pygments_lexer": "ipython3",
   "version": "3.8.13"
  },
  "toc": {
   "base_numbering": 1,
   "nav_menu": {},
   "number_sections": true,
   "sideBar": true,
   "skip_h1_title": false,
   "title_cell": "Table of Contents",
   "title_sidebar": "Contents",
   "toc_cell": false,
   "toc_position": {},
   "toc_section_display": true,
   "toc_window_display": false
  }
 },
 "nbformat": 4,
 "nbformat_minor": 4
}
