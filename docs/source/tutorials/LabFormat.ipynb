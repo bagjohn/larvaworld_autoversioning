{
 "cells": [
  {
   "cell_type": "markdown",
   "metadata": {},
   "source": [
    "# Importing experimental data\n",
    "\n",
    "Raw data can be of diverse lab-specific formats"
   ]
  },
  {
   "cell_type": "code",
   "execution_count": 7,
   "metadata": {},
   "outputs": [
    {
     "name": "stdout",
     "output_type": "stream",
     "text": [
      "The param.ipython extension is already loaded. To reload it, use:\n",
      "  %reload_ext param.ipython\n"
     ]
    }
   ],
   "source": [
    "%load_ext param.ipython\n",
    "from param.ipython import ParamPager\n",
    "import panel as pn"
   ]
  },
  {
   "cell_type": "markdown",
   "metadata": {},
   "source": [
    "Initialize the larvaworld registry. This loads some components from disc and builds the rest on the fly.\n",
    "\n",
    "We also set VERBOSE=1 to get more info"
   ]
  },
  {
   "cell_type": "code",
   "execution_count": 3,
   "metadata": {},
   "outputs": [],
   "source": [
    "from larvaworld.lib import reg, process\n",
    "reg.VERBOSE=1\n",
    "\n"
   ]
  },
  {
   "cell_type": "markdown",
   "metadata": {},
   "source": [
    "We will start with the *LabFormat* class which supports importing lab-specific data formats"
   ]
  },
  {
   "cell_type": "code",
   "execution_count": 18,
   "metadata": {
    "scrolled": true
   },
   "outputs": [
    {
     "data": {
      "text/plain": [
       "\u001b[1;32mParameters of 'LabFormat'\n",
       "=========================\n",
       "\u001b[0m\n",
       "\u001b[1;31mParameters changed from their default values are marked in red.\u001b[0m\n",
       "\u001b[1;36mSoft bound values are marked in cyan.\u001b[0m\n",
       "C/V= Constant/Variable, RO/RW = ReadOnly/ReadWrite, AN=Allow None\n",
       "\n",
       "\u001b[1;34mName                          Value                       Type    Mode \u001b[0m\n",
       "\n",
       "labID                           ''                       String   V RW \n",
       "tracker      TrackerOps(Ncontour=0, Npoints=3, XY_...  ClassAttr  V RW \n",
       "filesystem   Filesystem(file_pref='', file_sep='',...  ClassAttr  V RW \n",
       "env_params   EnvConfUnit(arena=AreaUnit(dims=(0.1,...  ClassAttr  V RW \n",
       "preprocess   PreprocessConf(drop_collisions=False,...  ClassAttr  V RW \n",
       "\n",
       "\u001b[1;32mParameter docstrings:\n",
       "=====================\u001b[0m\n",
       "\n",
       "\u001b[1;34mlabID:      The identifier ID of the lab\u001b[0m\n",
       "\u001b[1;31mtracker:    The dataset metadata\u001b[0m\n",
       "\u001b[1;34mfilesystem: The import-relevant lab-format filesystem\u001b[0m\n",
       "\u001b[1;31menv_params: The environment configuration\u001b[0m\n",
       "\u001b[1;34mpreprocess: The environment configuration\u001b[0m"
      ]
     },
     "metadata": {},
     "output_type": "display_data"
    }
   ],
   "source": [
    "from larvaworld.lib.reg.generators import LabFormat\n",
    "\n",
    "%params LabFormat"
   ]
  },
  {
   "cell_type": "markdown",
   "metadata": {},
   "source": [
    "Let's generate a new instance"
   ]
  },
  {
   "cell_type": "code",
   "execution_count": 21,
   "metadata": {},
   "outputs": [
    {
     "name": "stdout",
     "output_type": "stream",
     "text": [
      "An instance of <class 'larvaworld.lib.reg.generators.LabFormat'>\n"
     ]
    },
    {
     "data": {
      "text/plain": [
       "\u001b[1;32mParameters of 'LabFormat' instance\n",
       "==================================\n",
       "\u001b[0m\n",
       "\u001b[1;31mParameters changed from their default values are marked in red.\u001b[0m\n",
       "\u001b[1;36mSoft bound values are marked in cyan.\u001b[0m\n",
       "C/V= Constant/Variable, RO/RW = ReadOnly/ReadWrite, AN=Allow None\n",
       "\n",
       "\u001b[1;34mName                          Value                       Type    Mode \u001b[0m\n",
       "\n",
       "labID                        'MyLab'                     String   V RW \n",
       "\u001b[1;31mtracker      TrackerOps(Ncontour=0, Npoints=3, XY_...  ClassAttr  V RW \u001b[0m\n",
       "\u001b[1;31mfilesystem   Filesystem(file_pref='', file_sep='',...  ClassAttr  V RW \u001b[0m\n",
       "\u001b[1;31menv_params   EnvConfUnit(arena=AreaUnit(dims=(0.1,...  ClassAttr  V RW \u001b[0m\n",
       "\u001b[1;31mpreprocess   PreprocessConf(drop_collisions=False,...  ClassAttr  V RW \u001b[0m\n",
       "\n",
       "\u001b[1;32mParameter docstrings:\n",
       "=====================\u001b[0m\n",
       "\n",
       "\u001b[1;34mlabID:      The identifier ID of the lab\u001b[0m\n",
       "\u001b[1;31mtracker:    The dataset metadata\u001b[0m\n",
       "\u001b[1;34mfilesystem: The import-relevant lab-format filesystem\u001b[0m\n",
       "\u001b[1;31menv_params: The environment configuration\u001b[0m\n",
       "\u001b[1;34mpreprocess: The environment configuration\u001b[0m"
      ]
     },
     "metadata": {},
     "output_type": "display_data"
    }
   ],
   "source": [
    "lf_new=LabFormat(labID='MyLab')\n",
    "print(f'An instance of {lf_new.__class__}')\n",
    "\n",
    "\n",
    "%params lf_new\n"
   ]
  },
  {
   "cell_type": "markdown",
   "metadata": {},
   "source": [
    "Stored instances of the *LabFormat* class are available through the configuration registry.\n",
    "\n",
    "The registry is retrieved from a dictionary of registry objects by the *LabFormat* key."
   ]
  },
  {
   "cell_type": "code",
   "execution_count": 23,
   "metadata": {},
   "outputs": [],
   "source": [
    "LFreg=reg.conf.LabFormat"
   ]
  },
  {
   "cell_type": "markdown",
   "metadata": {},
   "source": [
    "Each lab-specific data-format configuration is stored in the registry's dictionary under a unique ID.\n",
    "\n",
    "Let's print the IDs"
   ]
  },
  {
   "cell_type": "code",
   "execution_count": 41,
   "metadata": {},
   "outputs": [
    {
     "name": "stdout",
     "output_type": "stream",
     "text": [
      "The IDs of the stored configurations of LabFormat class are :['Arguello', 'Berni', 'Jovanic', 'Schleyer']\n",
      "/home/panos/larvaworld_new/larvaworld_venv_new/lib/python3.10/site-packages/larvaworld/lib/reg/confDicts/LabFormat.txt\n",
      "\n",
      "An instance of <class 'larvaworld.lib.aux.dictsNlists.AttrDict'>\n",
      "\n",
      "True\n"
     ]
    }
   ],
   "source": [
    "lfIDs=LFreg.confIDs\n",
    "print(f'The IDs of the stored configurations of LabFormat class are :{lfIDs}')\n",
    "\n",
    "# The registry is supported by a nested dictionary :\n",
    "LFdict=LFreg.dict\n",
    "\n",
    "# The path where the dictionary is stored: \n",
    "print(LFreg.path_to_dict)\n",
    "\n",
    "\n",
    "# The configuration IDs are the keys. They correspond to a nested dictionary :\n",
    "lfID=lfIDs[0]\n",
    "lf0_entry=LFdict[lfID]\n",
    "print()\n",
    "print(f'An instance of {lf0_entry.__class__}')\n",
    "\n",
    "# The configuration dictionary can be retrieved directly by :\n",
    "lf0_entry2=LFreg.getID(lfID)\n",
    "print()\n",
    "print(lf0_entry==lf0_entry2)"
   ]
  },
  {
   "cell_type": "code",
   "execution_count": 35,
   "metadata": {},
   "outputs": [
    {
     "name": "stdout",
     "output_type": "stream",
     "text": [
      "The object under the ID : Arguello is an instance of <class 'larvaworld.lib.reg.generators.LabFormat'>\n",
      "\n"
     ]
    },
    {
     "data": {
      "text/plain": [
       "\u001b[1;32mParameters of 'LabFormat' instance\n",
       "==================================\n",
       "\u001b[0m\n",
       "\u001b[1;31mParameters changed from their default values are marked in red.\u001b[0m\n",
       "\u001b[1;36mSoft bound values are marked in cyan.\u001b[0m\n",
       "C/V= Constant/Variable, RO/RW = ReadOnly/ReadWrite, AN=Allow None\n",
       "\n",
       "\u001b[1;34mName                          Value                       Type    Mode \u001b[0m\n",
       "\n",
       "labID                       'Arguello'                   String   V RW \n",
       "\u001b[1;31mtracker      TrackerOps(Ncontour=0, Npoints=5, XY_...  ClassAttr  V RW \u001b[0m\n",
       "\u001b[1;31mfilesystem   Filesystem(file_pref='', file_sep='_-...  ClassAttr  V RW \u001b[0m\n",
       "\u001b[1;31menv_params   EnvConfUnit(arena=AreaUnit(dims=(0.17...  ClassAttr  V RW \u001b[0m\n",
       "\u001b[1;31mpreprocess   PreprocessConf(drop_collisions=False,...  ClassAttr  V RW \u001b[0m\n",
       "\n",
       "\u001b[1;32mParameter docstrings:\n",
       "=====================\u001b[0m\n",
       "\n",
       "\u001b[1;34mlabID:      The identifier ID of the lab\u001b[0m\n",
       "\u001b[1;31mtracker:    The dataset metadata\u001b[0m\n",
       "\u001b[1;34mfilesystem: The import-relevant lab-format filesystem\u001b[0m\n",
       "\u001b[1;31menv_params: The environment configuration\u001b[0m\n",
       "\u001b[1;34mpreprocess: The environment configuration\u001b[0m"
      ]
     },
     "metadata": {},
     "output_type": "display_data"
    }
   ],
   "source": [
    "# The configuration object can be retrieved directly by :\n",
    "lf0=LFreg.get(lfID)\n",
    "print(f'The object under the ID : {lfID} is an instance of {lf0.__class__}')\n",
    "print()\n",
    "\n",
    "%params lf0"
   ]
  },
  {
   "cell_type": "code",
   "execution_count": 42,
   "metadata": {},
   "outputs": [
    {
     "data": {},
     "metadata": {},
     "output_type": "display_data"
    },
    {
     "data": {
      "application/vnd.holoviews_exec.v0+json": "",
      "text/html": [
       "<div id='1002'>\n",
       "  <div class=\"bk-root\" id=\"bd0b502b-d033-4aa1-8095-e73419d7b37e\" data-root-id=\"1002\"></div>\n",
       "</div>\n",
       "<script type=\"application/javascript\">(function(root) {\n",
       "  function embed_document(root) {\n",
       "    var docs_json = {\"3ea60a75-59ed-49f8-ab96-4f55a7bd694b\":{\"defs\":[{\"extends\":null,\"module\":null,\"name\":\"ReactiveHTML1\",\"overrides\":[],\"properties\":[]},{\"extends\":null,\"module\":null,\"name\":\"FlexBox1\",\"overrides\":[],\"properties\":[{\"default\":\"flex-start\",\"kind\":null,\"name\":\"align_content\"},{\"default\":\"flex-start\",\"kind\":null,\"name\":\"align_items\"},{\"default\":\"row\",\"kind\":null,\"name\":\"flex_direction\"},{\"default\":\"wrap\",\"kind\":null,\"name\":\"flex_wrap\"},{\"default\":\"flex-start\",\"kind\":null,\"name\":\"justify_content\"}]},{\"extends\":null,\"module\":null,\"name\":\"GridStack1\",\"overrides\":[],\"properties\":[{\"default\":\"warn\",\"kind\":null,\"name\":\"mode\"},{\"default\":null,\"kind\":null,\"name\":\"ncols\"},{\"default\":null,\"kind\":null,\"name\":\"nrows\"},{\"default\":true,\"kind\":null,\"name\":\"allow_resize\"},{\"default\":true,\"kind\":null,\"name\":\"allow_drag\"},{\"default\":[],\"kind\":null,\"name\":\"state\"}]},{\"extends\":null,\"module\":null,\"name\":\"click1\",\"overrides\":[],\"properties\":[{\"default\":\"\",\"kind\":null,\"name\":\"terminal_output\"},{\"default\":\"\",\"kind\":null,\"name\":\"debug_name\"},{\"default\":0,\"kind\":null,\"name\":\"clears\"}]},{\"extends\":null,\"module\":null,\"name\":\"NotificationAreaBase1\",\"overrides\":[],\"properties\":[{\"default\":\"bottom-right\",\"kind\":null,\"name\":\"position\"},{\"default\":0,\"kind\":null,\"name\":\"_clear\"}]},{\"extends\":null,\"module\":null,\"name\":\"NotificationArea1\",\"overrides\":[],\"properties\":[{\"default\":[],\"kind\":null,\"name\":\"notifications\"},{\"default\":\"bottom-right\",\"kind\":null,\"name\":\"position\"},{\"default\":0,\"kind\":null,\"name\":\"_clear\"},{\"default\":[{\"background\":\"#ffc107\",\"icon\":{\"className\":\"fas fa-exclamation-triangle\",\"color\":\"white\",\"tagName\":\"i\"},\"type\":\"warning\"},{\"background\":\"#007bff\",\"icon\":{\"className\":\"fas fa-info-circle\",\"color\":\"white\",\"tagName\":\"i\"},\"type\":\"info\"}],\"kind\":null,\"name\":\"types\"}]},{\"extends\":null,\"module\":null,\"name\":\"Notification\",\"overrides\":[],\"properties\":[{\"default\":null,\"kind\":null,\"name\":\"background\"},{\"default\":3000,\"kind\":null,\"name\":\"duration\"},{\"default\":null,\"kind\":null,\"name\":\"icon\"},{\"default\":\"\",\"kind\":null,\"name\":\"message\"},{\"default\":null,\"kind\":null,\"name\":\"notification_type\"},{\"default\":false,\"kind\":null,\"name\":\"_destroyed\"}]},{\"extends\":null,\"module\":null,\"name\":\"TemplateActions1\",\"overrides\":[],\"properties\":[{\"default\":0,\"kind\":null,\"name\":\"open_modal\"},{\"default\":0,\"kind\":null,\"name\":\"close_modal\"}]},{\"extends\":null,\"module\":null,\"name\":\"MaterialTemplateActions1\",\"overrides\":[],\"properties\":[{\"default\":0,\"kind\":null,\"name\":\"open_modal\"},{\"default\":0,\"kind\":null,\"name\":\"close_modal\"}]}],\"roots\":{\"references\":[{\"attributes\":{\"align\":\"end\",\"button_type\":\"primary\",\"height_policy\":\"fit\",\"icon\":null,\"label\":\"\\u22ee\",\"margin\":[0,0,5,10],\"max_height\":30,\"max_width\":20},\"id\":\"1010\",\"type\":\"Toggle\"},{\"attributes\":{\"margin\":[5,0,5,10],\"min_width\":240,\"title\":\"Env params\",\"value\":\"<EnvConfUnit EnvConfUnit02339>\",\"width\":240},\"id\":\"1012\",\"type\":\"TextInput\"},{\"attributes\":{\"align\":\"end\",\"button_type\":\"primary\",\"height_policy\":\"fit\",\"icon\":null,\"label\":\"\\u22ee\",\"margin\":[0,0,5,10],\"max_height\":30,\"max_width\":20},\"id\":\"1007\",\"type\":\"Toggle\"},{\"attributes\":{\"margin\":[5,0,5,10],\"min_width\":240,\"title\":\"Filesystem\",\"value\":\"<Filesystem Filesystem02336>\",\"width\":240},\"id\":\"1009\",\"type\":\"TextInput\"},{\"attributes\":{\"margin\":[5,10,5,10],\"max_length\":5000,\"title\":\"LabID\",\"value\":\"Arguello\"},\"id\":\"1004\",\"type\":\"TextInput\"},{\"attributes\":{\"margin\":[5,0,5,10],\"min_width\":240,\"title\":\"Tracker\",\"value\":\"<TrackerOps TrackerOps02335>\",\"width\":240},\"id\":\"1006\",\"type\":\"TextInput\"},{\"attributes\":{\"align\":\"end\",\"button_type\":\"primary\",\"height_policy\":\"fit\",\"icon\":null,\"label\":\"\\u22ee\",\"margin\":[0,0,5,10],\"max_height\":30,\"max_width\":20},\"id\":\"1016\",\"type\":\"Toggle\"},{\"attributes\":{\"children\":[{\"id\":\"1006\"},{\"id\":\"1007\"}],\"margin\":[0,0,0,0],\"name\":\"Row02355\",\"width_policy\":\"max\"},\"id\":\"1005\",\"type\":\"Row\"},{\"attributes\":{\"children\":[{\"id\":\"1009\"},{\"id\":\"1010\"}],\"margin\":[0,0,0,0],\"name\":\"Row02359\",\"width_policy\":\"max\"},\"id\":\"1008\",\"type\":\"Row\"},{\"attributes\":{\"margin\":[5,10,5,10],\"name\":\"\",\"text\":\"<b>LabFormat</b>\"},\"id\":\"1003\",\"type\":\"Div\"},{\"attributes\":{\"margin\":[5,0,5,10],\"min_width\":240,\"title\":\"Preprocess\",\"value\":\"<PreprocessConf PreprocessConf02340>\",\"width\":240},\"id\":\"1015\",\"type\":\"TextInput\"},{\"attributes\":{\"children\":[{\"id\":\"1003\"},{\"id\":\"1004\"},{\"id\":\"1005\"},{\"id\":\"1008\"},{\"id\":\"1011\"},{\"id\":\"1014\"}],\"margin\":[5,5,5,5],\"min_width\":300,\"name\":\"LabFormat\",\"width\":300},\"id\":\"1002\",\"type\":\"Column\"},{\"attributes\":{\"reload\":false},\"id\":\"1018\",\"type\":\"panel.models.location.Location\"},{\"attributes\":{\"align\":\"end\",\"button_type\":\"primary\",\"height_policy\":\"fit\",\"icon\":null,\"label\":\"\\u22ee\",\"margin\":[0,0,5,10],\"max_height\":30,\"max_width\":20},\"id\":\"1013\",\"type\":\"Toggle\"},{\"attributes\":{\"children\":[{\"id\":\"1012\"},{\"id\":\"1013\"}],\"margin\":[0,0,0,0],\"name\":\"Row02363\",\"width_policy\":\"max\"},\"id\":\"1011\",\"type\":\"Row\"},{\"attributes\":{\"client_comm_id\":\"cca5ecba9729419d876e128b0cb2ff7e\",\"comm_id\":\"668b1a3848584108b11fa2a8443ce612\",\"plot_id\":\"1002\"},\"id\":\"1017\",\"type\":\"panel.models.comm_manager.CommManager\"},{\"attributes\":{\"children\":[{\"id\":\"1015\"},{\"id\":\"1016\"}],\"margin\":[0,0,0,0],\"name\":\"Row02367\",\"width_policy\":\"max\"},\"id\":\"1014\",\"type\":\"Row\"}],\"root_ids\":[\"1002\",\"1017\",\"1018\"]},\"title\":\"Bokeh Application\",\"version\":\"2.4.3\"}};\n",
       "    var render_items = [{\"docid\":\"3ea60a75-59ed-49f8-ab96-4f55a7bd694b\",\"root_ids\":[\"1002\"],\"roots\":{\"1002\":\"bd0b502b-d033-4aa1-8095-e73419d7b37e\"}}];\n",
       "    root.Bokeh.embed.embed_items_notebook(docs_json, render_items);\n",
       "    for (const render_item of render_items) {\n",
       "      for (const root_id of render_item.root_ids) {\n",
       "\tconst id_el = document.getElementById(root_id)\n",
       "\tif (id_el.children.length && (id_el.children[0].className === 'bk-root')) {\n",
       "\t  const root_el = id_el.children[0]\n",
       "\t  root_el.id = root_el.id + '-rendered'\n",
       "\t}\n",
       "      }\n",
       "    }\n",
       "  }\n",
       "  if (root.Bokeh !== undefined && root.Bokeh.Panel !== undefined) {\n",
       "    embed_document(root);\n",
       "  } else {\n",
       "    var attempts = 0;\n",
       "    var timer = setInterval(function(root) {\n",
       "      if (root.Bokeh !== undefined && root.Bokeh.Panel !== undefined) {\n",
       "        clearInterval(timer);\n",
       "        embed_document(root);\n",
       "      } else if (document.readyState == \"complete\") {\n",
       "        attempts++;\n",
       "        if (attempts > 200) {\n",
       "          clearInterval(timer);\n",
       "          console.log(\"Bokeh: ERROR: Unable to run BokehJS code because BokehJS library is missing\");\n",
       "        }\n",
       "      }\n",
       "    }, 25, root)\n",
       "  }\n",
       "})(window);</script>"
      ],
      "text/plain": [
       "Param(LabFormat)"
      ]
     },
     "execution_count": 42,
     "metadata": {
      "application/vnd.holoviews_exec.v0+json": {
       "id": "1002"
      }
     },
     "output_type": "execute_result"
    }
   ],
   "source": [
    "pn.Param(lf0)"
   ]
  },
  {
   "cell_type": "code",
   "execution_count": 39,
   "metadata": {},
   "outputs": [
    {
     "name": "stdout",
     "output_type": "stream",
     "text": [
      "['labID', 'tracker', 'filesystem', 'env_params', 'preprocess']\n",
      "\n",
      "/home/panos/larvaworld_new/larvaworld_venv_new/lib/python3.10/site-packages/larvaworld/data/ArguelloGroup\n",
      "/home/panos/larvaworld_new/larvaworld_venv_new/lib/python3.10/site-packages/larvaworld/data/ArguelloGroup/raw\n"
     ]
    }
   ],
   "source": [
    "# The configuration dictionary can be retrieved directly from the object :\n",
    "lf0_entry3=lf0.nestedConf\n",
    "\n",
    "# As well as the parameter keys\n",
    "print(lf0.param_keys)\n",
    "print()\n",
    "\n",
    "# The path where the lab data are stored: \n",
    "print(lf0.path)\n",
    "#print(lf0.raw_folder)"
   ]
  },
  {
   "cell_type": "markdown",
   "metadata": {},
   "source": [
    "import"
   ]
  },
  {
   "cell_type": "code",
   "execution_count": 45,
   "metadata": {},
   "outputs": [
    {
     "data": {
      "text/plain": [
       "\u001b[1;32mParameters of 'TrackerOps' instance\n",
       "===================================\n",
       "\u001b[0m\n",
       "\u001b[1;31mParameters changed from their default values are marked in red.\u001b[0m\n",
       "\u001b[1;36mSoft bound values are marked in cyan.\u001b[0m\n",
       "C/V= Constant/Variable, RO/RW = ReadOnly/ReadWrite, AN=Allow None\n",
       "\n",
       "\u001b[1;34mName                     Value                   Type               Bounds    Mode \u001b[0m\n",
       "\n",
       "\u001b[1;31mfr                        16.0              PositiveNumber        (0.0,\u001b[1;36m 100\u001b[0m)  V RW \u001b[0m\n",
       "\u001b[1;31mdt                       0.0625             PositiveNumber        (0.0,\u001b[1;36m 1.0\u001b[0m)  V RW \u001b[0m\n",
       "constant_framerate        True                 Boolean              (0, 1)    V RW \n",
       "XY_unit                   'mm'                 Selector                       V RW \n",
       "\u001b[1;31mNpoints                    12              PositiveInteger         (0,\u001b[1;36m 20\u001b[0m)    V RW \u001b[0m\n",
       "\u001b[1;31mNcontour                   22              PositiveInteger         (0,\u001b[1;36m 100\u001b[0m)   V RW \u001b[0m\n",
       "\u001b[1;31mpoint_idx                  9                   Integer             (-1, 12)   V RW \u001b[0m\n",
       "point                   'point9'                String                        V RW \n",
       "bend                 'from_vectors'            Selector                       V RW \n",
       "\u001b[1;31mfront_vector             (2, 6)      PositiveIntegerRangeOrdered   (0,\u001b[1;36m 12\u001b[0m)    V RW \u001b[0m\n",
       "\u001b[1;31mrear_vector             (7, 11)          IntegerRangeOrdered      (\u001b[1;36m-12\u001b[0m,\u001b[1;36m 12\u001b[0m)   V RW \u001b[0m\n",
       "front_body_ratio          0.5                 Magnitude           (0.0, 1.0)  V RW \n",
       "use_component_vel        False                 Boolean              (0, 1)    V RW \n",
       "\n",
       "\u001b[1;32mParameter docstrings:\n",
       "=====================\u001b[0m\n",
       "\n",
       "\u001b[1;34mfr:                 The tracking/simulation framerate (inverse of timestep) in Hz.\u001b[0m\n",
       "\u001b[1;31mdt:                 The tracking/simulation timestep (inverse of tracking framerate) in seconds.\u001b[0m\n",
       "\u001b[1;34mconstant_framerate: Whether the tracking framerate is constant.\u001b[0m\n",
       "\u001b[1;31mXY_unit:            The spatial unit of the XY coordinate data\u001b[0m\n",
       "\u001b[1;34mNpoints:            The number of points tracked along the larva midline.\u001b[0m\n",
       "\u001b[1;31mNcontour:           The number of points tracked around the larva contour.\u001b[0m\n",
       "\u001b[1;34mpoint_idx:          Index of midline point to use as the larva spatial position. Default is None meaning use the centroid.\u001b[0m\n",
       "\u001b[1;31mpoint:              Midline point to use as the larva spatial position. Default is centroid.\u001b[0m\n",
       "\u001b[1;34mbend:               Whether bending angle is computed as a sum of sequential segmental angles or as the angle between front and rear body vectors.\u001b[0m\n",
       "\u001b[1;31mfront_vector:       The initial & final segment of the front body vector.\u001b[0m\n",
       "\u001b[1;34mrear_vector:        The initial & final segment of the rear body vector.\u001b[0m\n",
       "\u001b[1;31mfront_body_ratio:   The fraction of the body considered front, relevant for bend computation from angles.\u001b[0m\n",
       "\u001b[1;34muse_component_vel:  Whether to use the component velocity ralative to the axis of forward motion.\u001b[0m"
      ]
     },
     "metadata": {},
     "output_type": "display_data"
    }
   ],
   "source": [
    "id='Schleyer'\n",
    "Schleyer_lf=LFreg.get(id)\n",
    "#print(Schleyer_lf.labID)\n",
    "#print(LFentry.tracker)\n",
    "\n",
    "%params Schleyer_lf.tracker\n"
   ]
  },
  {
   "cell_type": "code",
   "execution_count": null,
   "metadata": {},
   "outputs": [],
   "source": []
  },
  {
   "cell_type": "code",
   "execution_count": 50,
   "metadata": {},
   "outputs": [],
   "source": [
    "kws0 = {\n",
    "        #'labID': 'Schleyer',\n",
    "        'group_id': 'exploration',\n",
    "    }\n",
    "\n",
    "    # Merged case\n",
    "N=40\n",
    "kws1 = {\n",
    "    'parent_dir': 'exploration',\n",
    "    'merged': True,\n",
    "    'N': N,\n",
    "    'min_duration_in_sec': 120,\n",
    "   # 'refID': f'exploration.{N}controls',\n",
    "    **kws0\n",
    "}\n",
    "\n",
    "# Single dish case\n",
    "folder='dish02'\n",
    "kws2 = {\n",
    "    'parent_dir': f'exploration/{folder}',\n",
    "   # 'merged': False,\n",
    "   # 'N': None,\n",
    "    'min_duration_in_sec': 90,\n",
    "    'id': folder,\n",
    "   # 'refID': f'exploration.{folder}',\n",
    "    **kws0\n",
    "}\n",
    "\n"
   ]
  },
  {
   "cell_type": "code",
   "execution_count": 52,
   "metadata": {},
   "outputs": [
    {
     "name": "stdout",
     "output_type": "stream",
     "text": [
      "\n",
      "----- Importing experimental dataset by the Schleyer lab-specific format. -----\n",
      "**--- Tracks required to last at least 120 seconds -----\n",
      "**--- Endpoint dataframe initialized -----\n",
      "Loaded existing conf Schleyer_exploration_dataset\n",
      "11 11\n",
      "***-- Dataset Schleyer_exploration_dataset created with 11 larvae! -----\n",
      "Rows excluded according to collision_flag.\n",
      "Dataset already filtered at 2.0. If you want to apply additional filter set recompute to True\n",
      "Dataset already rescaled by 0.001. If you want to rescale again set recompute to True\n",
      "****- Processed dataset Schleyer_exploration_dataset to derive secondary metrics -----\n",
      "***** Dataset Schleyer_exploration_dataset stored.-----\n",
      "\n",
      "----- Importing experimental dataset by the Schleyer lab-specific format. -----\n",
      "**--- Tracks required to last at least 90 seconds -----\n",
      "**--- Endpoint dataframe initialized -----\n",
      "Loaded existing conf dish02\n",
      "7 7\n",
      "***-- Dataset dish02 created with 7 larvae! -----\n",
      "Rows excluded according to collision_flag.\n",
      "Dataset already filtered at 2.0. If you want to apply additional filter set recompute to True\n",
      "Dataset already rescaled by 0.001. If you want to rescale again set recompute to True\n",
      "****- Processed dataset dish02 to derive secondary metrics -----\n",
      "***** Dataset dish02 stored.-----\n",
      "\n",
      "The object under the ID : Schleyer_exploration_dataset is an instance of <class 'larvaworld.lib.process.dataset.LarvaDataset'>\n"
     ]
    }
   ],
   "source": [
    "d1 = Schleyer_lf.import_dataset(**kws1)\n",
    "d2 = Schleyer_lf.import_dataset(**kws2)\n",
    "\n",
    "print()\n",
    "print(f'The object having the ID : {d1.id} is an instance of {d1.__class__}')"
   ]
  },
  {
   "cell_type": "code",
   "execution_count": 53,
   "metadata": {},
   "outputs": [
    {
     "data": {
      "text/html": [
       "<div>\n",
       "<style scoped>\n",
       "    .dataframe tbody tr th:only-of-type {\n",
       "        vertical-align: middle;\n",
       "    }\n",
       "\n",
       "    .dataframe tbody tr th {\n",
       "        vertical-align: top;\n",
       "    }\n",
       "\n",
       "    .dataframe thead th {\n",
       "        text-align: right;\n",
       "    }\n",
       "</style>\n",
       "<table border=\"1\" class=\"dataframe\">\n",
       "  <thead>\n",
       "    <tr style=\"text-align: right;\">\n",
       "      <th></th>\n",
       "      <th></th>\n",
       "      <th>head_x</th>\n",
       "      <th>head_y</th>\n",
       "      <th>point2_x</th>\n",
       "      <th>point2_y</th>\n",
       "      <th>point3_x</th>\n",
       "      <th>point3_y</th>\n",
       "      <th>point4_x</th>\n",
       "      <th>point4_y</th>\n",
       "      <th>point5_x</th>\n",
       "      <th>point5_y</th>\n",
       "      <th>...</th>\n",
       "      <th>contour18_x</th>\n",
       "      <th>contour18_y</th>\n",
       "      <th>contour19_x</th>\n",
       "      <th>contour19_y</th>\n",
       "      <th>contour20_x</th>\n",
       "      <th>contour20_y</th>\n",
       "      <th>contour21_x</th>\n",
       "      <th>contour21_y</th>\n",
       "      <th>collision_flag</th>\n",
       "      <th>t</th>\n",
       "    </tr>\n",
       "    <tr>\n",
       "      <th>Step</th>\n",
       "      <th>AgentID</th>\n",
       "      <th></th>\n",
       "      <th></th>\n",
       "      <th></th>\n",
       "      <th></th>\n",
       "      <th></th>\n",
       "      <th></th>\n",
       "      <th></th>\n",
       "      <th></th>\n",
       "      <th></th>\n",
       "      <th></th>\n",
       "      <th></th>\n",
       "      <th></th>\n",
       "      <th></th>\n",
       "      <th></th>\n",
       "      <th></th>\n",
       "      <th></th>\n",
       "      <th></th>\n",
       "      <th></th>\n",
       "      <th></th>\n",
       "      <th></th>\n",
       "      <th></th>\n",
       "    </tr>\n",
       "  </thead>\n",
       "  <tbody>\n",
       "    <tr>\n",
       "      <th rowspan=\"5\" valign=\"top\">1</th>\n",
       "      <th>Larva_12</th>\n",
       "      <td>1.94768</td>\n",
       "      <td>-16.2572</td>\n",
       "      <td>1.77274</td>\n",
       "      <td>-15.9568</td>\n",
       "      <td>1.60575</td>\n",
       "      <td>-15.654</td>\n",
       "      <td>1.46648</td>\n",
       "      <td>-15.3359</td>\n",
       "      <td>1.36784</td>\n",
       "      <td>-15.0017</td>\n",
       "      <td>...</td>\n",
       "      <td>0.84297</td>\n",
       "      <td>-14.2897</td>\n",
       "      <td>0.672685</td>\n",
       "      <td>-13.9907</td>\n",
       "      <td>0.417039</td>\n",
       "      <td>-13.753</td>\n",
       "      <td>0.175704</td>\n",
       "      <td>-13.5845</td>\n",
       "      <td>0.0</td>\n",
       "      <td>0.0625</td>\n",
       "    </tr>\n",
       "    <tr>\n",
       "      <th>Larva_15</th>\n",
       "      <td>NaN</td>\n",
       "      <td>NaN</td>\n",
       "      <td>NaN</td>\n",
       "      <td>NaN</td>\n",
       "      <td>NaN</td>\n",
       "      <td>NaN</td>\n",
       "      <td>NaN</td>\n",
       "      <td>NaN</td>\n",
       "      <td>NaN</td>\n",
       "      <td>NaN</td>\n",
       "      <td>...</td>\n",
       "      <td>NaN</td>\n",
       "      <td>NaN</td>\n",
       "      <td>NaN</td>\n",
       "      <td>NaN</td>\n",
       "      <td>NaN</td>\n",
       "      <td>NaN</td>\n",
       "      <td>NaN</td>\n",
       "      <td>NaN</td>\n",
       "      <td>NaN</td>\n",
       "      <td>NaN</td>\n",
       "    </tr>\n",
       "    <tr>\n",
       "      <th>Larva_19</th>\n",
       "      <td>NaN</td>\n",
       "      <td>NaN</td>\n",
       "      <td>NaN</td>\n",
       "      <td>NaN</td>\n",
       "      <td>NaN</td>\n",
       "      <td>NaN</td>\n",
       "      <td>NaN</td>\n",
       "      <td>NaN</td>\n",
       "      <td>NaN</td>\n",
       "      <td>NaN</td>\n",
       "      <td>...</td>\n",
       "      <td>NaN</td>\n",
       "      <td>NaN</td>\n",
       "      <td>NaN</td>\n",
       "      <td>NaN</td>\n",
       "      <td>NaN</td>\n",
       "      <td>NaN</td>\n",
       "      <td>NaN</td>\n",
       "      <td>NaN</td>\n",
       "      <td>NaN</td>\n",
       "      <td>NaN</td>\n",
       "    </tr>\n",
       "    <tr>\n",
       "      <th>Larva_21</th>\n",
       "      <td>NaN</td>\n",
       "      <td>NaN</td>\n",
       "      <td>NaN</td>\n",
       "      <td>NaN</td>\n",
       "      <td>NaN</td>\n",
       "      <td>NaN</td>\n",
       "      <td>NaN</td>\n",
       "      <td>NaN</td>\n",
       "      <td>NaN</td>\n",
       "      <td>NaN</td>\n",
       "      <td>...</td>\n",
       "      <td>NaN</td>\n",
       "      <td>NaN</td>\n",
       "      <td>NaN</td>\n",
       "      <td>NaN</td>\n",
       "      <td>NaN</td>\n",
       "      <td>NaN</td>\n",
       "      <td>NaN</td>\n",
       "      <td>NaN</td>\n",
       "      <td>NaN</td>\n",
       "      <td>NaN</td>\n",
       "    </tr>\n",
       "    <tr>\n",
       "      <th>Larva_24</th>\n",
       "      <td>NaN</td>\n",
       "      <td>NaN</td>\n",
       "      <td>NaN</td>\n",
       "      <td>NaN</td>\n",
       "      <td>NaN</td>\n",
       "      <td>NaN</td>\n",
       "      <td>NaN</td>\n",
       "      <td>NaN</td>\n",
       "      <td>NaN</td>\n",
       "      <td>NaN</td>\n",
       "      <td>...</td>\n",
       "      <td>NaN</td>\n",
       "      <td>NaN</td>\n",
       "      <td>NaN</td>\n",
       "      <td>NaN</td>\n",
       "      <td>NaN</td>\n",
       "      <td>NaN</td>\n",
       "      <td>NaN</td>\n",
       "      <td>NaN</td>\n",
       "      <td>NaN</td>\n",
       "      <td>NaN</td>\n",
       "    </tr>\n",
       "  </tbody>\n",
       "</table>\n",
       "<p>5 rows × 70 columns</p>\n",
       "</div>"
      ],
      "text/plain": [
       "                head_x   head_y point2_x point2_y point3_x point3_y point4_x  \\\n",
       "Step AgentID                                                                   \n",
       "1    Larva_12  1.94768 -16.2572  1.77274 -15.9568  1.60575  -15.654  1.46648   \n",
       "     Larva_15      NaN      NaN      NaN      NaN      NaN      NaN      NaN   \n",
       "     Larva_19      NaN      NaN      NaN      NaN      NaN      NaN      NaN   \n",
       "     Larva_21      NaN      NaN      NaN      NaN      NaN      NaN      NaN   \n",
       "     Larva_24      NaN      NaN      NaN      NaN      NaN      NaN      NaN   \n",
       "\n",
       "              point4_y point5_x point5_y  ... contour18_x contour18_y  \\\n",
       "Step AgentID                              ...                           \n",
       "1    Larva_12 -15.3359  1.36784 -15.0017  ...     0.84297    -14.2897   \n",
       "     Larva_15      NaN      NaN      NaN  ...         NaN         NaN   \n",
       "     Larva_19      NaN      NaN      NaN  ...         NaN         NaN   \n",
       "     Larva_21      NaN      NaN      NaN  ...         NaN         NaN   \n",
       "     Larva_24      NaN      NaN      NaN  ...         NaN         NaN   \n",
       "\n",
       "              contour19_x contour19_y contour20_x contour20_y contour21_x  \\\n",
       "Step AgentID                                                                \n",
       "1    Larva_12    0.672685    -13.9907    0.417039     -13.753    0.175704   \n",
       "     Larva_15         NaN         NaN         NaN         NaN         NaN   \n",
       "     Larva_19         NaN         NaN         NaN         NaN         NaN   \n",
       "     Larva_21         NaN         NaN         NaN         NaN         NaN   \n",
       "     Larva_24         NaN         NaN         NaN         NaN         NaN   \n",
       "\n",
       "              contour21_y collision_flag       t  \n",
       "Step AgentID                                      \n",
       "1    Larva_12    -13.5845            0.0  0.0625  \n",
       "     Larva_15         NaN            NaN     NaN  \n",
       "     Larva_19         NaN            NaN     NaN  \n",
       "     Larva_21         NaN            NaN     NaN  \n",
       "     Larva_24         NaN            NaN     NaN  \n",
       "\n",
       "[5 rows x 70 columns]"
      ]
     },
     "execution_count": 53,
     "metadata": {},
     "output_type": "execute_result"
    }
   ],
   "source": [
    "s,e,c=d1.data\n",
    "\n",
    "# Timeseries df\n",
    "s.head()"
   ]
  },
  {
   "cell_type": "code",
   "execution_count": 54,
   "metadata": {},
   "outputs": [
    {
     "data": {
      "text/html": [
       "<div>\n",
       "<style scoped>\n",
       "    .dataframe tbody tr th:only-of-type {\n",
       "        vertical-align: middle;\n",
       "    }\n",
       "\n",
       "    .dataframe tbody tr th {\n",
       "        vertical-align: top;\n",
       "    }\n",
       "\n",
       "    .dataframe thead th {\n",
       "        text-align: right;\n",
       "    }\n",
       "</style>\n",
       "<table border=\"1\" class=\"dataframe\">\n",
       "  <thead>\n",
       "    <tr style=\"text-align: right;\">\n",
       "      <th></th>\n",
       "      <th>initial_t</th>\n",
       "      <th>final_t</th>\n",
       "      <th>num_ts</th>\n",
       "      <th>cum_dur</th>\n",
       "      <th>dt</th>\n",
       "      <th>final_tick</th>\n",
       "      <th>initial_tick</th>\n",
       "      <th>num_ticks</th>\n",
       "    </tr>\n",
       "    <tr>\n",
       "      <th>AgentID</th>\n",
       "      <th></th>\n",
       "      <th></th>\n",
       "      <th></th>\n",
       "      <th></th>\n",
       "      <th></th>\n",
       "      <th></th>\n",
       "      <th></th>\n",
       "      <th></th>\n",
       "    </tr>\n",
       "  </thead>\n",
       "  <tbody>\n",
       "    <tr>\n",
       "      <th>Larva_12</th>\n",
       "      <td>122.8125</td>\n",
       "      <td>169.3125</td>\n",
       "      <td>2880</td>\n",
       "      <td>171.1875</td>\n",
       "      <td>0.016151</td>\n",
       "      <td>2709</td>\n",
       "      <td>1965</td>\n",
       "      <td>744</td>\n",
       "    </tr>\n",
       "    <tr>\n",
       "      <th>Larva_15</th>\n",
       "      <td>130.7500</td>\n",
       "      <td>65.6875</td>\n",
       "      <td>2355</td>\n",
       "      <td>142.3125</td>\n",
       "      <td>-0.027639</td>\n",
       "      <td>1051</td>\n",
       "      <td>2092</td>\n",
       "      <td>-1041</td>\n",
       "    </tr>\n",
       "    <tr>\n",
       "      <th>Larva_19</th>\n",
       "      <td>103.8750</td>\n",
       "      <td>129.1250</td>\n",
       "      <td>2794</td>\n",
       "      <td>172.4375</td>\n",
       "      <td>0.009040</td>\n",
       "      <td>2066</td>\n",
       "      <td>1662</td>\n",
       "      <td>404</td>\n",
       "    </tr>\n",
       "    <tr>\n",
       "      <th>Larva_21</th>\n",
       "      <td>28.9375</td>\n",
       "      <td>131.6250</td>\n",
       "      <td>2035</td>\n",
       "      <td>119.3750</td>\n",
       "      <td>0.050485</td>\n",
       "      <td>2106</td>\n",
       "      <td>463</td>\n",
       "      <td>1643</td>\n",
       "    </tr>\n",
       "    <tr>\n",
       "      <th>Larva_24</th>\n",
       "      <td>117.1250</td>\n",
       "      <td>98.4375</td>\n",
       "      <td>2508</td>\n",
       "      <td>152.3750</td>\n",
       "      <td>-0.007454</td>\n",
       "      <td>1575</td>\n",
       "      <td>1874</td>\n",
       "      <td>-299</td>\n",
       "    </tr>\n",
       "    <tr>\n",
       "      <th>Larva_28</th>\n",
       "      <td>145.9375</td>\n",
       "      <td>142.1250</td>\n",
       "      <td>2367</td>\n",
       "      <td>142.6250</td>\n",
       "      <td>-0.001611</td>\n",
       "      <td>2274</td>\n",
       "      <td>2335</td>\n",
       "      <td>-61</td>\n",
       "    </tr>\n",
       "    <tr>\n",
       "      <th>Larva_32</th>\n",
       "      <td>32.0625</td>\n",
       "      <td>93.8125</td>\n",
       "      <td>2720</td>\n",
       "      <td>160.6250</td>\n",
       "      <td>0.022711</td>\n",
       "      <td>1501</td>\n",
       "      <td>513</td>\n",
       "      <td>988</td>\n",
       "    </tr>\n",
       "    <tr>\n",
       "      <th>Larva_34</th>\n",
       "      <td>149.8125</td>\n",
       "      <td>157.1875</td>\n",
       "      <td>2652</td>\n",
       "      <td>153.9375</td>\n",
       "      <td>0.002782</td>\n",
       "      <td>2515</td>\n",
       "      <td>2397</td>\n",
       "      <td>118</td>\n",
       "    </tr>\n",
       "    <tr>\n",
       "      <th>Larva_35</th>\n",
       "      <td>46.5625</td>\n",
       "      <td>166.6875</td>\n",
       "      <td>2880</td>\n",
       "      <td>172.7500</td>\n",
       "      <td>0.041725</td>\n",
       "      <td>2667</td>\n",
       "      <td>745</td>\n",
       "      <td>1922</td>\n",
       "    </tr>\n",
       "    <tr>\n",
       "      <th>Larva_37</th>\n",
       "      <td>66.3125</td>\n",
       "      <td>179.9375</td>\n",
       "      <td>2558</td>\n",
       "      <td>158.1250</td>\n",
       "      <td>0.044437</td>\n",
       "      <td>2879</td>\n",
       "      <td>1061</td>\n",
       "      <td>1818</td>\n",
       "    </tr>\n",
       "    <tr>\n",
       "      <th>Larva_7</th>\n",
       "      <td>60.3125</td>\n",
       "      <td>0.0625</td>\n",
       "      <td>2880</td>\n",
       "      <td>177.4375</td>\n",
       "      <td>-0.020927</td>\n",
       "      <td>1</td>\n",
       "      <td>965</td>\n",
       "      <td>-964</td>\n",
       "    </tr>\n",
       "  </tbody>\n",
       "</table>\n",
       "</div>"
      ],
      "text/plain": [
       "          initial_t   final_t  num_ts   cum_dur        dt  final_tick  \\\n",
       "AgentID                                                                 \n",
       "Larva_12   122.8125  169.3125    2880  171.1875  0.016151        2709   \n",
       "Larva_15   130.7500   65.6875    2355  142.3125 -0.027639        1051   \n",
       "Larva_19   103.8750  129.1250    2794  172.4375  0.009040        2066   \n",
       "Larva_21    28.9375  131.6250    2035  119.3750  0.050485        2106   \n",
       "Larva_24   117.1250   98.4375    2508  152.3750 -0.007454        1575   \n",
       "Larva_28   145.9375  142.1250    2367  142.6250 -0.001611        2274   \n",
       "Larva_32    32.0625   93.8125    2720  160.6250  0.022711        1501   \n",
       "Larva_34   149.8125  157.1875    2652  153.9375  0.002782        2515   \n",
       "Larva_35    46.5625  166.6875    2880  172.7500  0.041725        2667   \n",
       "Larva_37    66.3125  179.9375    2558  158.1250  0.044437        2879   \n",
       "Larva_7     60.3125    0.0625    2880  177.4375 -0.020927           1   \n",
       "\n",
       "          initial_tick  num_ticks  \n",
       "AgentID                            \n",
       "Larva_12          1965        744  \n",
       "Larva_15          2092      -1041  \n",
       "Larva_19          1662        404  \n",
       "Larva_21           463       1643  \n",
       "Larva_24          1874       -299  \n",
       "Larva_28          2335        -61  \n",
       "Larva_32           513        988  \n",
       "Larva_34          2397        118  \n",
       "Larva_35           745       1922  \n",
       "Larva_37          1061       1818  \n",
       "Larva_7            965       -964  "
      ]
     },
     "execution_count": 54,
     "metadata": {},
     "output_type": "execute_result"
    }
   ],
   "source": [
    "# Endpoint df\n",
    "e"
   ]
  },
  {
   "cell_type": "code",
   "execution_count": 57,
   "metadata": {},
   "outputs": [
    {
     "name": "stdout",
     "output_type": "stream",
     "text": [
      "The dataset configuration is an instance of <class 'larvaworld.lib.reg.generators.DatasetConfig'>\n",
      "['fr', 'dt', 'constant_framerate', 'duration', 'Nsteps', 'XY_unit', 'Npoints', 'Ncontour', 'point_idx', 'point', 'bend', 'front_vector', 'rear_vector', 'front_body_ratio', 'use_component_vel', 'id', 'dir', 'Nticks', 'refID', 'group_id', 'color', 'env_params', 'agent_ids', 'N', 'sample', 'filtered_at', 'rescaled_by', 'larva_groups', 'life_history', 'metric_definition', 'model', 'source_xy', 'u', 'x', 'y']\n"
     ]
    }
   ],
   "source": [
    "# Dataset metadata/configuration\n",
    "print(f'The dataset configuration is an instance of {c.__class__}')\n",
    "\n",
    "print(c.param_keys)"
   ]
  },
  {
   "cell_type": "code",
   "execution_count": 2,
   "metadata": {},
   "outputs": [
    {
     "name": "stdout",
     "output_type": "stream",
     "text": [
      "Welcome to the param IPython extension! (https://param.holoviz.org/)\n",
      "Available magics: %params\n"
     ]
    },
    {
     "data": {
      "text/plain": [
       "\u001b[1;32mParameters of 'LabFormat'\n",
       "=========================\n",
       "\u001b[0m\n",
       "\u001b[1;31mParameters changed from their default values are marked in red.\u001b[0m\n",
       "\u001b[1;36mSoft bound values are marked in cyan.\u001b[0m\n",
       "C/V= Constant/Variable, RO/RW = ReadOnly/ReadWrite, AN=Allow None\n",
       "\n",
       "\u001b[1;34mName                          Value                       Type    Mode \u001b[0m\n",
       "\n",
       "labID                           ''                       String   V RW \n",
       "tracker      TrackerOps(Ncontour=0, Npoints=3, XY_...  ClassAttr  V RW \n",
       "filesystem   Filesystem(file_pref='', file_sep='',...  ClassAttr  V RW \n",
       "env_params   EnvConfUnit(arena=AreaUnit(dims=(0.1,...  ClassAttr  V RW \n",
       "preprocess   PreprocessConf(drop_collisions=False,...  ClassAttr  V RW \n",
       "\n",
       "\u001b[1;32mParameter docstrings:\n",
       "=====================\u001b[0m\n",
       "\n",
       "\u001b[1;34mlabID:      The identifier ID of the lab\u001b[0m\n",
       "\u001b[1;31mtracker:    The dataset metadata\u001b[0m\n",
       "\u001b[1;34mfilesystem: The import-relevant lab-format filesystem\u001b[0m\n",
       "\u001b[1;31menv_params: The environment configuration\u001b[0m\n",
       "\u001b[1;34mpreprocess: The environment configuration\u001b[0m"
      ]
     },
     "metadata": {},
     "output_type": "display_data"
    }
   ],
   "source": [
    "\n",
    "%params reg.gen.LabFormat"
   ]
  }
 ],
 "metadata": {
  "kernelspec": {
   "display_name": "larvaworld_venv_new",
   "language": "python",
   "name": "larvaworld_venv_new"
  },
  "language_info": {
   "codemirror_mode": {
    "name": "ipython",
    "version": 3
   },
   "file_extension": ".py",
   "mimetype": "text/x-python",
   "name": "python",
   "nbconvert_exporter": "python",
   "pygments_lexer": "ipython3",
   "version": "3.10.12"
  }
 },
 "nbformat": 4,
 "nbformat_minor": 4
}
